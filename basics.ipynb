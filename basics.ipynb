{
 "cells": [
  {
   "cell_type": "code",
   "execution_count": 1,
   "metadata": {},
   "outputs": [],
   "source": [
    "a = 2390"
   ]
  },
  {
   "cell_type": "code",
   "execution_count": 2,
   "metadata": {},
   "outputs": [
    {
     "name": "stdout",
     "output_type": "stream",
     "text": [
      "1575.0\n"
     ]
    }
   ],
   "source": [
    "p = 10000\n",
    "r = 3.15\n",
    "t = 5\n",
    "si = p*r*t/100\n",
    "print(si)"
   ]
  },
  {
   "cell_type": "code",
   "execution_count": 1,
   "metadata": {},
   "outputs": [],
   "source": [
    "x = 1\n",
    "y = 23456787453\n",
    "z = 2748074653"
   ]
  },
  {
   "cell_type": "code",
   "execution_count": 2,
   "metadata": {},
   "outputs": [],
   "source": [
    " x  = 1.10\n",
    " y = 1.0\n",
    " z = -35.59\n",
    " z = 87.7e100"
   ]
  },
  {
   "cell_type": "code",
   "execution_count": 3,
   "metadata": {},
   "outputs": [],
   "source": [
    "name = \"shivam\"\n",
    "color = \"rajpoot\"\n",
    "institution = \"bbd\""
   ]
  },
  {
   "cell_type": "code",
   "execution_count": 4,
   "metadata": {},
   "outputs": [],
   "source": [
    "a = 23901\n",
    "b = 21.11\n",
    "c = \"string\"\n",
    "d = True\n",
    "e = None"
   ]
  },
  {
   "cell_type": "code",
   "execution_count": 5,
   "metadata": {},
   "outputs": [],
   "source": [
    "fruits = ['apple']"
   ]
  },
  {
   "cell_type": "code",
   "execution_count": 7,
   "metadata": {},
   "outputs": [
    {
     "data": {
      "text/plain": [
       "False"
      ]
     },
     "execution_count": 7,
     "metadata": {},
     "output_type": "execute_result"
    }
   ],
   "source": [
    "\"apple\"  not in fruits"
   ]
  },
  {
   "cell_type": "code",
   "execution_count": 11,
   "metadata": {},
   "outputs": [],
   "source": [
    "name = input(\"enter your name: \")\n",
    "age = int(input(\"enter your age: \"))"
   ]
  },
  {
   "cell_type": "code",
   "execution_count": 12,
   "metadata": {},
   "outputs": [
    {
     "name": "stdout",
     "output_type": "stream",
     "text": [
      "7.5\n",
      "176.78571428571428\n"
     ]
    }
   ],
   "source": [
    "pi = 22/7\n",
    "r = float(input(\"enter radius: \"))\n",
    "area = pi*r**2\n",
    "print(r)\n",
    "print(area)"
   ]
  },
  {
   "cell_type": "code",
   "execution_count": 13,
   "metadata": {},
   "outputs": [
    {
     "name": "stdout",
     "output_type": "stream",
     "text": [
      "a=23901,b=21.11,c=string\n"
     ]
    }
   ],
   "source": [
    "# output using f-strings\n",
    "print(f'a={a},b={b},c={c}')"
   ]
  },
  {
   "cell_type": "code",
   "execution_count": 15,
   "metadata": {},
   "outputs": [
    {
     "name": "stdout",
     "output_type": "stream",
     "text": [
      "23901 21.11 string\n",
      "a= 23901 b= 21.11 c= string\n"
     ]
    }
   ],
   "source": [
    "# comma separated display\n",
    "print(a,b,c)\n",
    "print('a=',a, 'b=',b,'c=',c)\n"
   ]
  },
  {
   "cell_type": "code",
   "execution_count": 1,
   "metadata": {},
   "outputs": [
    {
     "name": "stdout",
     "output_type": "stream",
     "text": [
      "your details\n",
      "name: sr\n",
      "favourite things\n",
      "movie: pr\n",
      "food: ps\n"
     ]
    }
   ],
   "source": [
    "name = input(\"Name: \")\n",
    "fav_movie = input(\"Your favourite food:\")\n",
    "fav_food = input(\"your favourite food:\")\n",
    "\n",
    "print(\"your details\")\n",
    "print(f'name: {name}')\n",
    "print('favourite things')\n",
    "print(f\"movie: {fav_movie}\")\n",
    "print(f\"food: {fav_food}\")"
   ]
  },
  {
   "cell_type": "code",
   "execution_count": null,
   "metadata": {},
   "outputs": [],
   "source": []
  }
 ],
 "metadata": {
  "kernelspec": {
   "display_name": "base",
   "language": "python",
   "name": "python3"
  },
  "language_info": {
   "codemirror_mode": {
    "name": "ipython",
    "version": 3
   },
   "file_extension": ".py",
   "mimetype": "text/x-python",
   "name": "python",
   "nbconvert_exporter": "python",
   "pygments_lexer": "ipython3",
   "version": "3.11.5"
  }
 },
 "nbformat": 4,
 "nbformat_minor": 2
}
