{
 "cells": [
  {
   "cell_type": "code",
   "execution_count": 10,
   "metadata": {},
   "outputs": [],
   "source": [
    "def greetings():\n",
    "    print(\"😊\"*10)\n",
    "    print(\"congratulations\")\n",
    "    print(\"20\")\n"
   ]
  },
  {
   "cell_type": "code",
   "execution_count": 11,
   "metadata": {},
   "outputs": [
    {
     "name": "stdout",
     "output_type": "stream",
     "text": [
      "😊😊😊😊😊😊😊😊😊😊\n",
      "congratulations\n",
      "20\n"
     ]
    }
   ],
   "source": [
    "greetings()"
   ]
  },
  {
   "cell_type": "code",
   "execution_count": 17,
   "metadata": {},
   "outputs": [],
   "source": [
    "def hyp(p,b):\n",
    "\n",
    "   c=(p**2 + b**2)**0.5\n",
    "   print(c)"
   ]
  },
  {
   "cell_type": "code",
   "execution_count": 19,
   "metadata": {},
   "outputs": [
    {
     "name": "stdout",
     "output_type": "stream",
     "text": [
      "5.0\n",
      "13.601470508735444\n"
     ]
    }
   ],
   "source": [
    "hyp(3,4)\n",
    "hyp(13,4)"
   ]
  },
  {
   "cell_type": "code",
   "execution_count": 30,
   "metadata": {},
   "outputs": [],
   "source": [
    "def rect_area(length,breadth):\n",
    "   \n",
    "\n",
    "   area = length * breadth\n",
    "   return area\n",
    "\n"
   ]
  },
  {
   "cell_type": "code",
   "execution_count": 31,
   "metadata": {},
   "outputs": [
    {
     "name": "stdout",
     "output_type": "stream",
     "text": [
      "200\n",
      "1200\n",
      "1400\n"
     ]
    }
   ],
   "source": [
    " a  = rect_area(10,20)\n",
    "\n",
    " b = rect_area(30,40)\n",
    " print(a)\n",
    " print(b)\n",
    " print(a + b)"
   ]
  },
  {
   "cell_type": "code",
   "execution_count": 33,
   "metadata": {},
   "outputs": [],
   "source": [
    "from random import choice\n",
    "def roll_dice():\n",
    "    faces = ['1️⃣','2️⃣','3️⃣','4️⃣','5️⃣','6️⃣']\n",
    "    chosen = choice(faces)\n",
    "    return chosen"
   ]
  },
  {
   "cell_type": "code",
   "execution_count": 34,
   "metadata": {},
   "outputs": [
    {
     "name": "stdout",
     "output_type": "stream",
     "text": [
      "4️⃣ 6️⃣\n",
      "2️⃣ 2️⃣\n",
      "6️⃣ 3️⃣\n"
     ]
    }
   ],
   "source": [
    "print(roll_dice(), roll_dice())\n",
    "print(roll_dice(), roll_dice())\n",
    "print(roll_dice(), roll_dice())\n"
   ]
  },
  {
   "cell_type": "code",
   "execution_count": 36,
   "metadata": {},
   "outputs": [],
   "source": [
    "def get_total(price , bank_card):\n",
    "    if bank_card == 'axis':\n",
    "        discount = price * 0.10\n",
    "        return price - discount\n",
    "    elif bank_card == 'sbi':\n",
    "        discount = price * 0.15\n",
    "        return price - discount\n",
    "    else :\n",
    "        return price"
   ]
  },
  {
   "cell_type": "code",
   "execution_count": 40,
   "metadata": {},
   "outputs": [
    {
     "name": "stdout",
     "output_type": "stream",
     "text": [
      "18000.0\n",
      "34000.0\n"
     ]
    }
   ],
   "source": [
    " a = get_total (20000, \"axis\")\n",
    " b = get_total(40000, \"sbi\")\n",
    " print(a)\n",
    " print(b)"
   ]
  },
  {
   "cell_type": "code",
   "execution_count": 1,
   "metadata": {},
   "outputs": [],
   "source": [
    "def default_function(a=50,b=100):\n",
    "    return a+b"
   ]
  },
  {
   "cell_type": "code",
   "execution_count": 3,
   "metadata": {},
   "outputs": [
    {
     "data": {
      "text/plain": [
       "150"
      ]
     },
     "execution_count": 3,
     "metadata": {},
     "output_type": "execute_result"
    }
   ],
   "source": [
    "default_function()"
   ]
  },
  {
   "cell_type": "code",
   "execution_count": 4,
   "metadata": {},
   "outputs": [
    {
     "data": {
      "text/plain": [
       "199"
      ]
     },
     "execution_count": 4,
     "metadata": {},
     "output_type": "execute_result"
    }
   ],
   "source": [
    "default_function(a=99)"
   ]
  },
  {
   "cell_type": "code",
   "execution_count": 5,
   "metadata": {},
   "outputs": [
    {
     "data": {
      "text/plain": [
       "305"
      ]
     },
     "execution_count": 5,
     "metadata": {},
     "output_type": "execute_result"
    }
   ],
   "source": [
    "default_function(b=255)"
   ]
  },
  {
   "cell_type": "code",
   "execution_count": 22,
   "metadata": {},
   "outputs": [],
   "source": [
    " f = lambda x : x**2 +x*2 + x"
   ]
  },
  {
   "cell_type": "code",
   "execution_count": 23,
   "metadata": {},
   "outputs": [
    {
     "data": {
      "text/plain": [
       "40"
      ]
     },
     "execution_count": 23,
     "metadata": {},
     "output_type": "execute_result"
    }
   ],
   "source": [
    "f(5)"
   ]
  },
  {
   "cell_type": "code",
   "execution_count": 11,
   "metadata": {},
   "outputs": [
    {
     "data": {
      "text/plain": [
       "53"
      ]
     },
     "execution_count": 11,
     "metadata": {},
     "output_type": "execute_result"
    }
   ],
   "source": [
    "g = lambda x,y : x**2 + y*3 + 10\n",
    "g(5,6)"
   ]
  },
  {
   "cell_type": "code",
   "execution_count": 31,
   "metadata": {},
   "outputs": [],
   "source": [
    "def adder (*numbers):\n",
    "    total = 0\n",
    "    for number in numbers:\n",
    "        total = total + number\n",
    "\n",
    "    return total"
   ]
  },
  {
   "cell_type": "code",
   "execution_count": null,
   "metadata": {},
   "outputs": [],
   "source": []
  },
  {
   "cell_type": "code",
   "execution_count": 32,
   "metadata": {},
   "outputs": [
    {
     "name": "stdout",
     "output_type": "stream",
     "text": [
      "145\n",
      "7\n",
      "35\n"
     ]
    }
   ],
   "source": [
    "print(adder(1,2,3,123,12,3,1))\n",
    "print(adder(1,2,3,1))\n",
    "print(adder(23,12))"
   ]
  },
  {
   "cell_type": "code",
   "execution_count": 33,
   "metadata": {},
   "outputs": [
    {
     "name": "stdout",
     "output_type": "stream",
     "text": [
      "1\n",
      "4\n"
     ]
    },
    {
     "data": {
      "text/plain": [
       "[9, 16, 25, 36, 49, 64, 81, 100]"
      ]
     },
     "execution_count": 33,
     "metadata": {},
     "output_type": "execute_result"
    }
   ],
   "source": [
    "def gen_squares(*values):\n",
    "    for value in values:\n",
    "        yield value**2\n",
    "ans = gen_squares(1,2,3,4,5,6,7,8,9,10)\n",
    "print(next(ans))\n",
    "print(next(ans))\n",
    "list(ans)\n",
    "        "
   ]
  },
  {
   "cell_type": "code",
   "execution_count": 34,
   "metadata": {},
   "outputs": [
    {
     "name": "stdout",
     "output_type": "stream",
     "text": [
      "1\n",
      "25\n",
      "225\n",
      "14400\n"
     ]
    }
   ],
   "source": [
    "for sqr in  gen_squares(1,5,15,120):\n",
    "    print(sqr)"
   ]
  },
  {
   "cell_type": "code",
   "execution_count": null,
   "metadata": {},
   "outputs": [],
   "source": []
  }
 ],
 "metadata": {
  "kernelspec": {
   "display_name": "base",
   "language": "python",
   "name": "python3"
  },
  "language_info": {
   "codemirror_mode": {
    "name": "ipython",
    "version": 3
   },
   "file_extension": ".py",
   "mimetype": "text/x-python",
   "name": "python",
   "nbconvert_exporter": "python",
   "pygments_lexer": "ipython3",
   "version": "3.11.5"
  }
 },
 "nbformat": 4,
 "nbformat_minor": 2
}
