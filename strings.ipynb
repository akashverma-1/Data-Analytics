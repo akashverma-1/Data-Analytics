{
 "cells": [
  {
   "cell_type": "markdown",
   "metadata": {},
   "source": [
    "string methods"
   ]
  },
  {
   "cell_type": "markdown",
   "metadata": {},
   "source": [
    "serachind and replacing\n",
    "\n",
    "1 find\n",
    "2 replace"
   ]
  },
  {
   "cell_type": "code",
   "execution_count": 3,
   "metadata": {},
   "outputs": [
    {
     "name": "stdout",
     "output_type": "stream",
     "text": [
      "16\n",
      "12\n",
      "-1\n"
     ]
    }
   ],
   "source": [
    "msg = 'the quick brown fox jumps over the lazy dog'\n",
    "\n",
    "print(msg.find('fox'))\n",
    "print(msg.find('o'))\n",
    "print(msg.find('bear'))"
   ]
  },
  {
   "cell_type": "code",
   "execution_count": 5,
   "metadata": {},
   "outputs": [
    {
     "name": "stdout",
     "output_type": "stream",
     "text": [
      "the quick brown elephant jumps over the lazy dog\n",
      "the quick briwn fix jumps iver the lazy dig\n",
      "the quick brown unicorn jumps over the lazy rabbit\n"
     ]
    }
   ],
   "source": [
    "msg = 'the quick brown fox jumps over the lazy dog'\n",
    "\n",
    "print(msg.replace('fox','elephant'))\n",
    "print(msg.replace('o','i'))\n",
    "print(msg.replace('fox','unicorn').replace('dog','rabbit'))"
   ]
  },
  {
   "cell_type": "markdown",
   "metadata": {},
   "source": [
    "manipulation of string into list and vice versa\n",
    " 1. split\n",
    " 2. join\n",
    " 3. strip\n",
    " "
   ]
  },
  {
   "cell_type": "code",
   "execution_count": 9,
   "metadata": {},
   "outputs": [
    {
     "name": "stdout",
     "output_type": "stream",
     "text": [
      "['the', 'quick', 'brown', 'fox', 'jumps', 'over', 'the', 'lazy', 'dog']\n",
      "['life before death', ' strength before weakness', ' journey before']\n",
      "[' johny johny yes papa', ' eating sugar no papa', ' telling lies no papa', ' open your mouth hahaha', ' ']\n"
     ]
    }
   ],
   "source": [
    "print(msg.split())\n",
    "\n",
    "msg2 = \"life before death, strength before weakness, journey before\"\n",
    "print(msg2.split(','))\n",
    "poem = ''' johny johny yes papa\n",
    " eating sugar no papa\n",
    " telling lies no papa\n",
    " open your mouth hahaha\n",
    " '''\n",
    "print(poem.splitlines())"
   ]
  },
  {
   "cell_type": "code",
   "execution_count": 10,
   "metadata": {},
   "outputs": [
    {
     "name": "stdout",
     "output_type": "stream",
     "text": [
      "a b c d e\n",
      "a+ b+ c+ d+ e\n",
      "a ,b ,c ,d ,e\n"
     ]
    }
   ],
   "source": [
    "x = ['a','b','c','d','e']\n",
    "\n",
    "print(\" \".join(x))\n",
    "print(\"+ \".join(x))\n",
    "print(\" ,\".join(x))\n"
   ]
  },
  {
   "cell_type": "code",
   "execution_count": 13,
   "metadata": {},
   "outputs": [
    {
     "name": "stdout",
     "output_type": "stream",
     "text": [
      "apples\n",
      "rainbows\n",
      "unicorns\n",
      "ola\n"
     ]
    }
   ],
   "source": [
    "a = \"apples  \"\n",
    "b = \"  rainbows\"\n",
    "c = \" unicorns \"\n",
    "d = '''\n",
    "\n",
    "ola\n",
    "\n",
    "'''\n",
    "\n",
    "print(a.strip())\n",
    "print(b.strip())\n",
    "print(c.strip())\n",
    "print(d.strip())"
   ]
  },
  {
   "cell_type": "markdown",
   "metadata": {},
   "source": [
    "counting \n",
    "\n",
    "1. count"
   ]
  },
  {
   "cell_type": "code",
   "execution_count": 14,
   "metadata": {},
   "outputs": [
    {
     "name": "stdout",
     "output_type": "stream",
     "text": [
      "8\n",
      "2\n",
      "2\n"
     ]
    }
   ],
   "source": [
    "sentence = '''once upon an time ,\n",
    "\n",
    "in a land far far away ,\n",
    "there is a princess,\n",
    "with her pet'''\n",
    "\n",
    "print(sentence.count('a'))\n",
    "print(sentence.count('far'))\n",
    "print(sentence.count('in'))\n"
   ]
  },
  {
   "cell_type": "markdown",
   "metadata": {},
   "source": [
    "formatting\n",
    "\n",
    "1. upper\n",
    "2. lower\n",
    "3. capitalize\n",
    "4. title\n"
   ]
  },
  {
   "cell_type": "code",
   "execution_count": 15,
   "metadata": {},
   "outputs": [
    {
     "name": "stdout",
     "output_type": "stream",
     "text": [
      "THE QUICK BROWN FOX JUMPS OVER THE LAZY DOG\n",
      "the quick brown fox jumps over the lazy dog\n",
      "The quick brown fox jumps over the lazy dog\n",
      "The Quick Brown Fox Jumps Over The Lazy Dog\n"
     ]
    }
   ],
   "source": [
    "print(msg.upper())\n",
    "print(msg.lower())\n",
    "print(msg.capitalize())\n",
    "print(msg.title())"
   ]
  },
  {
   "cell_type": "code",
   "execution_count": null,
   "metadata": {},
   "outputs": [],
   "source": []
  }
 ],
 "metadata": {
  "kernelspec": {
   "display_name": "base",
   "language": "python",
   "name": "python3"
  },
  "language_info": {
   "codemirror_mode": {
    "name": "ipython",
    "version": 3
   },
   "file_extension": ".py",
   "mimetype": "text/x-python",
   "name": "python",
   "nbconvert_exporter": "python",
   "pygments_lexer": "ipython3",
   "version": "3.11.5"
  }
 },
 "nbformat": 4,
 "nbformat_minor": 2
}
